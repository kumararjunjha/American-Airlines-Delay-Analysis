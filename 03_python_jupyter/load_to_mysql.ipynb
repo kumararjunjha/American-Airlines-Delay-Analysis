{
 "cells": [
  {
   "cell_type": "code",
   "execution_count": 2,
   "id": "58de4cfe-52f6-48e9-8e30-112f0d308070",
   "metadata": {},
   "outputs": [
    {
     "name": "stdout",
     "output_type": "stream",
     "text": [
      "Requirement already satisfied: pandas in d:\\anaconda\\lib\\site-packages (2.2.2)\n",
      "Requirement already satisfied: mysql-connector-python in d:\\anaconda\\lib\\site-packages (9.3.0)\n",
      "Requirement already satisfied: numpy>=1.26.0 in d:\\anaconda\\lib\\site-packages (from pandas) (1.26.4)\n",
      "Requirement already satisfied: python-dateutil>=2.8.2 in d:\\anaconda\\lib\\site-packages (from pandas) (2.9.0.post0)\n",
      "Requirement already satisfied: pytz>=2020.1 in d:\\anaconda\\lib\\site-packages (from pandas) (2024.1)\n",
      "Requirement already satisfied: tzdata>=2022.7 in d:\\anaconda\\lib\\site-packages (from pandas) (2023.3)\n",
      "Requirement already satisfied: six>=1.5 in d:\\anaconda\\lib\\site-packages (from python-dateutil>=2.8.2->pandas) (1.16.0)\n"
     ]
    }
   ],
   "source": [
    "!pip install pandas mysql-connector-python\n"
   ]
  },
  {
   "cell_type": "code",
   "execution_count": 33,
   "id": "eae0f03e-5194-4c75-9a79-6d8249c14c04",
   "metadata": {},
   "outputs": [
    {
     "name": "stdout",
     "output_type": "stream",
     "text": [
      "✅ 171223 rows inserted successfully.\n"
     ]
    }
   ],
   "source": [
    "import pandas as pd\n",
    "import mysql.connector\n",
    "\n",
    "# Load the dataset\n",
    "file_path = \"clean_airline_delays.csv\"\n",
    "df = pd.read_csv(file_path)\n",
    "df = df.astype(object).where(pd.notnull(df), None)\n",
    "\n",
    "\n",
    "# Connect to MySQL\n",
    "conn = mysql.connector.connect(\n",
    "    host=\"localhost\",     \n",
    "    user=\"root\",     \n",
    "    password=\"Smile@0704\",  \n",
    "    database=\"flight_delay_cause\"\n",
    ")\n",
    "cursor = conn.cursor()\n",
    "\n",
    "insert_stmt = \"\"\"\n",
    "    INSERT INTO airline_delays (\n",
    "        year, month, carrier, carrier_name, airport, airport_name,\n",
    "        arr_flights, arr_del15, carrier_ct, weather_ct, nas_ct, security_ct,\n",
    "        late_aircraft_ct, arr_cancelled, arr_diverted, arr_delay,\n",
    "        carrier_delay, weather_delay, nas_delay, security_delay, late_aircraft_delay\n",
    "    ) VALUES (%s, %s, %s, %s, %s, %s, %s, %s, %s, %s, %s, %s, %s, %s, %s, %s, %s, %s, %s, %s, %s)\n",
    "\"\"\"\n",
    "\n",
    "# Insert row by row (batching helps performance)\n",
    "data = [tuple(x) for x in df.to_records(index=False)]\n",
    "cursor.executemany(insert_stmt, data)\n",
    "conn.commit()\n",
    "\n",
    "print(f\"✅ {cursor.rowcount} rows inserted successfully.\")\n",
    "\n",
    "# Close\n",
    "cursor.close()\n",
    "conn.close()\n"
   ]
  },
  {
   "cell_type": "code",
   "execution_count": null,
   "id": "64ddc018-2bf6-4825-8133-88a086c1edd6",
   "metadata": {},
   "outputs": [],
   "source": []
  }
 ],
 "metadata": {
  "kernelspec": {
   "display_name": "Python 3 (ipykernel)",
   "language": "python",
   "name": "python3"
  },
  "language_info": {
   "codemirror_mode": {
    "name": "ipython",
    "version": 3
   },
   "file_extension": ".py",
   "mimetype": "text/x-python",
   "name": "python",
   "nbconvert_exporter": "python",
   "pygments_lexer": "ipython3",
   "version": "3.12.7"
  }
 },
 "nbformat": 4,
 "nbformat_minor": 5
}
